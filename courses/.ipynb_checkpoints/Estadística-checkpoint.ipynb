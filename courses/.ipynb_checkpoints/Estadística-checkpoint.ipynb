{
 "cells": [
  {
   "cell_type": "markdown",
   "id": "12d7feba",
   "metadata": {},
   "source": [
    "# Estadistica\n",
    "\n",
    "## Unidad 1\n",
    "1. Teorema de Bayes.\n",
    "2. Variables aleatorias\n",
    "3. Función de distribución.\n",
    "4. Distribuciones bivariadas, marginales y condicionales"
   ]
  },
  {
   "cell_type": "code",
   "execution_count": 58,
   "id": "98bb999a",
   "metadata": {},
   "outputs": [],
   "source": [
    "def IC_norm_sigma_conocida(media_muestral:float, varianza: float, n:int, confianza: int ) -> tuple:\n",
    "    \"\"\"\n",
    "    Parametros(\n",
    "    media_muestral:float, \n",
    "    varianza: float, \n",
    "    n:int, \n",
    "    confianza: int \n",
    "    )\n",
    "    \"\"\"\n",
    "    alpha = 1 - confianza/100\n",
    "    alpha_2 = alpha/2\n",
    "    Z_alpha_2 = norm.ppf(1-alpha_2)\n",
    "    print(Z_alpha_2)\n",
    "    limite_1 = media_muestral - Z_alpha_2*((varianza**(0.5))/((n)**(0.5)))\n",
    "    limite_2 = media_muestral + Z_alpha_2*((varianza**(0.5))/((n)**(0.5)))\n",
    "    if (limite_1 < limite_2):\n",
    "        print(limite_2 - limite_1)\n",
    "        return (limite_1, limite_2)\n",
    "    \n",
    "    else :\n",
    "        print(limite_1 - limite_2)\n",
    "        return (limite_2, limite_1)\n",
    "\n",
    "def IC_norm_sigma_desconocida(media_muestral:float, varianza_muestral: float, n:int, confianza: int ) -> tuple:\n",
    "    \"\"\"\n",
    "    Parametros(\n",
    "    media_muestral:float, \n",
    "    varianza_muestral: float, \n",
    "    n:int, \n",
    "    confianza: int \n",
    "    )\n",
    "    return: tupla con limites del intervalo de confianza\n",
    "    \"\"\"\n",
    "    alpha = 1 - confianza/100\n",
    "    alpha_2 = alpha/2\n",
    "    t_alpha_2 = t.ppf(1 - alpha_2, n-1)\n",
    "    limite_1 = media_muestral - t_alpha_2*((varianza_muestral**(0.5))/((n)**(0.5)))\n",
    "    limite_2 = media_muestral + t_alpha_2*((varianza_muestral**(0.5))/((n)**(0.5)))\n",
    "    if (limite_1 < limite_2):\n",
    "        return (limite_1, limite_2)\n",
    "    else :\n",
    "        return (limite_2, limite_1)\n",
    "\n",
    "def IC_x_y_norm_sigma_desconocida(\n",
    "                                  media_muestral_1:float, \n",
    "                                  media_muestral_2:float,\n",
    "                                  varianza_muestral_1:float,\n",
    "                                  varianza_muestral_2: float,\n",
    "                                  n:int,\n",
    "                                  m:int,\n",
    "                                  confianza\n",
    "                                 ):\n",
    "    alpha = 1 - confianza/100\n",
    "    alpha_2 = alpha/2\n",
    "    numerador_v = ((( ((varianza_muestral_1)**2)/n + ((varianza_muestral_2)**2)/m )**2)*(n-1)*(m-1))\n",
    "    denominador_v = ((((varianza_muestral_1)**2)/n)**2)*(m-1) + ((((varianza_muestral_2)**2)/m)**2)*(n-1)\n",
    "    v = numerador_v / denominador_v\n",
    "    print(\"v\",v)\n",
    "    t_alpha_2 = t.ppf(1 - alpha_2, round(v))\n",
    "    radical = ( (((varianza_muestral_1)**2)/n) + (((varianza_muestral_2)**2)/m) )**0.5\n",
    "    limite_1 = media_muestral_1 - media_muestral_2 - t_alpha_2*radical\n",
    "    limite_2 = media_muestral_1 - media_muestral_2 + t_alpha_2*radical\n",
    "    if (limite_1 < limite_2):\n",
    "        return (limite_1, limite_2)\n",
    "    else :\n",
    "        return (limite_2, limite_1)\n",
    "    \n",
    "    \n",
    "def IC_x_y_no_norm_sigma_desconocida(\n",
    "                                  media_muestral_1:float, \n",
    "                                  media_muestral_2:float,\n",
    "                                  varianza_muestral_1:float,\n",
    "                                  varianza_muestral_2: float,\n",
    "                                  n:int,\n",
    "                                  m:int,\n",
    "                                  confianza\n",
    "                                 ):\n",
    "    alpha = 1 - confianza/100\n",
    "    alpha_2 = alpha/2\n",
    "    numerador_v = ((( ((varianza_muestral_1)**2)/n + ((varianza_muestral_2)**2)/m )**2)*(n-1)*(m-1))\n",
    "    denominador_v = ((((varianza_muestral_1)**2)/n)**2)*(m-1) + ((((varianza_muestral_2)**2)/m)**2)*(n-1)\n",
    "    t_alpha_2 = norm.ppf(1 - alpha_2)\n",
    "    radical = ( (((varianza_muestral_1)**2)/n) + (((varianza_muestral_2)**2)/m) )**0.5\n",
    "    limite_1 = media_muestral_1 - media_muestral_2 - t_alpha_2*radical\n",
    "    limite_2 = media_muestral_1 - media_muestral_2 + t_alpha_2*radical\n",
    "    if (limite_1 < limite_2):\n",
    "        return (limite_1, limite_2)\n",
    "    else :\n",
    "        return (limite_2, limite_1)\n",
    "    "
   ]
  },
  {
   "cell_type": "markdown",
   "id": "b37a3be3",
   "metadata": {},
   "source": [
    "## Ejercicios para taller 2\n",
    "\n",
    "Intervalos de confianza"
   ]
  },
  {
   "cell_type": "code",
   "execution_count": 3,
   "id": "1d88ed72",
   "metadata": {},
   "outputs": [],
   "source": [
    "import pandas as pd\n",
    "from  scipy.stats import norm, t\n",
    "import numpy as np"
   ]
  },
  {
   "cell_type": "markdown",
   "id": "61999ef4",
   "metadata": {},
   "source": [
    "# Intervalos de Confianza Para la Media"
   ]
  },
  {
   "cell_type": "markdown",
   "id": "8f81f39c",
   "metadata": {},
   "source": [
    "\n",
    "<img src=\"./Imagenes/estadistica/ejercicio1.png\">"
   ]
  },
  {
   "cell_type": "code",
   "execution_count": 43,
   "id": "b9e7427a",
   "metadata": {},
   "outputs": [],
   "source": [
    "# Muestra\n",
    "list_1 = [23, 39, 40, 41, 43, 47, 51, 58, 63, 66, 67, 69, 72]"
   ]
  },
  {
   "cell_type": "code",
   "execution_count": 44,
   "id": "4d9976ed",
   "metadata": {},
   "outputs": [],
   "source": [
    "# Calculando la media y varianza muestral y definimos la cantidad de elementos.\n",
    "media_muestral = np.mean(list_1)\n",
    "varianza_muestral = np.var(list_1, ddof=1)\n",
    "n = len(list_1)"
   ]
  },
  {
   "cell_type": "code",
   "execution_count": 51,
   "id": "8623af5f",
   "metadata": {},
   "outputs": [],
   "source": [
    "# Cálculamos la significancia que es alpha y alpha  \n",
    "confianza = 0.95 # \n",
    "alpha     = 1 - confianza\n",
    "alpha_2   = alpha/2"
   ]
  },
  {
   "cell_type": "code",
   "execution_count": 54,
   "id": "76a4ea62",
   "metadata": {},
   "outputs": [
    {
     "data": {
      "text/plain": [
       "2.1788128296634177"
      ]
     },
     "execution_count": 54,
     "metadata": {},
     "output_type": "execute_result"
    }
   ],
   "source": [
    "# Calculando la imagen la del perceptil con respecto a la distribución\n",
    "t_alpha_2_n_1 = t.ppf(1-alpha_2, n-1)\n",
    "t_alpha_2_n_1"
   ]
  },
  {
   "cell_type": "code",
   "execution_count": 55,
   "id": "eef2318d",
   "metadata": {},
   "outputs": [
    {
     "data": {
      "text/plain": [
       "(61.20798876305008, 43.253549698488385)"
      ]
     },
     "execution_count": 55,
     "metadata": {},
     "output_type": "execute_result"
    }
   ],
   "source": [
    "# Se cálcula el intervalo:\n",
    "(media_muestral + t_alpha_2_n_1*((varianza_muestral**(0.5))/((n)**(0.5))) , media_muestral - t_alpha_2_n_1*((varianza_muestral**(0.5))/((n)**(0.5))))"
   ]
  },
  {
   "cell_type": "markdown",
   "id": "f4b9d154",
   "metadata": {},
   "source": [
    "<h4 style=\"color: blue\">\n",
    "Conclusión: Con un 95% de confianza se puede afirmar que el peso promedio de los animales sanos se encuentra entre 43.2535 y 61.20798 respecto a la unidad de peso.\n",
    "</h4>"
   ]
  },
  {
   "cell_type": "markdown",
   "id": "c8875c2f",
   "metadata": {},
   "source": [
    "EJERCICIO 2 "
   ]
  },
  {
   "cell_type": "markdown",
   "id": "2f198372",
   "metadata": {},
   "source": [
    "\n",
    "    "
   ]
  },
  {
   "cell_type": "code",
   "execution_count": 10,
   "id": "5c41f647",
   "metadata": {},
   "outputs": [
    {
     "name": "stdout",
     "output_type": "stream",
     "text": [
      "2.3263478740408408\n",
      "4.652695748081683\n"
     ]
    },
    {
     "data": {
      "text/plain": [
       "(38.57365212595916, 43.22634787404084)"
      ]
     },
     "execution_count": 10,
     "metadata": {},
     "output_type": "execute_result"
    }
   ],
   "source": [
    "IC_norm_sigma_conocida(40.9, 16, 16, 98)"
   ]
  },
  {
   "cell_type": "code",
   "execution_count": 11,
   "id": "b0565551",
   "metadata": {},
   "outputs": [
    {
     "data": {
      "text/plain": [
       "'(2*4*2.3263)**2 < n'"
      ]
     },
     "execution_count": 11,
     "metadata": {},
     "output_type": "execute_result"
    }
   ],
   "source": [
    "\"Ejericico 3 restar los intervalos menos \"\n",
    "\"(2*4*2.3263)**2 < n\""
   ]
  },
  {
   "cell_type": "code",
   "execution_count": 12,
   "id": "9978848e",
   "metadata": {},
   "outputs": [
    {
     "name": "stdout",
     "output_type": "stream",
     "text": [
      "2.3263478740408408\n",
      "0.999079177754254\n"
     ]
    },
    {
     "data": {
      "text/plain": [
       "(40.40046041112287, 41.399539588877126)"
      ]
     },
     "execution_count": 12,
     "metadata": {},
     "output_type": "execute_result"
    }
   ],
   "source": [
    "IC_norm_sigma_conocida(40.9, 16, 347, 98)"
   ]
  },
  {
   "cell_type": "code",
   "execution_count": 13,
   "id": "45b6317e",
   "metadata": {},
   "outputs": [
    {
     "data": {
      "text/plain": [
       "(28.658406267789847, 31.741593732210152)"
      ]
     },
     "execution_count": 13,
     "metadata": {},
     "output_type": "execute_result"
    }
   ],
   "source": [
    "#Ejercicio 4\n",
    "IC_norm_sigma_desconocida(30.2, (3.1)**2, 18, 95)"
   ]
  },
  {
   "cell_type": "code",
   "execution_count": 14,
   "id": "48c6fe1c",
   "metadata": {},
   "outputs": [],
   "source": [
    "# intervalo de confianza para la diferencia de medias"
   ]
  },
  {
   "cell_type": "code",
   "execution_count": 62,
   "id": "16af2124",
   "metadata": {},
   "outputs": [
    {
     "name": "stdout",
     "output_type": "stream",
     "text": [
      "v 27.767268908886958\n"
     ]
    },
    {
     "data": {
      "text/plain": [
       "(-9.807368808320518, 71.80736880832052)"
      ]
     },
     "execution_count": 62,
     "metadata": {},
     "output_type": "execute_result"
    }
   ],
   "source": [
    "#Ejercicio 1 de diferencia de medias\n",
    "IC_x_y_norm_sigma_desconocida(548,517,57,52,15,15,95)"
   ]
  },
  {
   "cell_type": "markdown",
   "id": "8e3b6ade",
   "metadata": {},
   "source": [
    "$\\mu_1 - \\mu_2 \\in (-9.822783212529636, 71.82278321252963)$, en particular $\\mu_1 - \\mu_2 = 0$, por lo cual $\\mu_1 = \\mu_2$"
   ]
  },
  {
   "cell_type": "code",
   "execution_count": 60,
   "id": "22df8722",
   "metadata": {},
   "outputs": [
    {
     "data": {
      "text/plain": [
       "(7.0389178094078275, 54.96108219059217)"
      ]
     },
     "execution_count": 60,
     "metadata": {},
     "output_type": "execute_result"
    }
   ],
   "source": [
    "#Ejercicio 2 de diferencia de medias\n",
    "\n",
    "IC_x_y_no_norm_sigma_desconocida(548,517,57,52,45,35,95)"
   ]
  },
  {
   "cell_type": "markdown",
   "id": "9ea3cd70",
   "metadata": {},
   "source": [
    "$\\mu_1 - \\mu_2 \\in (7.0389178094078275, 54.96108219059217)$, existe un $\\beta>0 \\in (7.0389178094078275, 54.96108219059217)$  tal que $\\mu_1 - \\mu_2 = \\beta>0$, por lo cual $\\mu_1 > \\mu_2$."
   ]
  },
  {
   "cell_type": "code",
   "execution_count": 61,
   "id": "dc5b5213",
   "metadata": {},
   "outputs": [
    {
     "name": "stdout",
     "output_type": "stream",
     "text": [
      "v 15.843649081977317\n"
     ]
    },
    {
     "data": {
      "text/plain": [
       "(-1.0521892085864009, 8.372189208586402)"
      ]
     },
     "execution_count": 61,
     "metadata": {},
     "output_type": "execute_result"
    }
   ],
   "source": [
    "IC_x_y_norm_sigma_desconocida(35.22, 31.56, 4.944, 4.475, 9, 9, 95)"
   ]
  },
  {
   "cell_type": "markdown",
   "id": "db35f03f",
   "metadata": {},
   "source": [
    "$\\mu_1 - \\mu_2 \\in (-1.055971345970872, 8.375971345970871)$, en particular $\\mu_1 - \\mu_2 = 0$, por lo cual $\\mu_1 = \\mu_2$"
   ]
  },
  {
   "cell_type": "code",
   "execution_count": 18,
   "id": "80db607a",
   "metadata": {},
   "outputs": [],
   "source": [
    "#Distribuciones Conjuntas "
   ]
  },
  {
   "cell_type": "markdown",
   "id": "dbc92915",
   "metadata": {},
   "source": [
    "1. Sean $X$, $Y$ variabnles aleatorias continuas con f.d.p conjuna dada por: \n",
    "\n",
    "\n",
    "$\n",
    "\\begin{align}\n",
    "f(x,y) =\\Biggl\\{ \n",
    "    \\begin{split} \n",
    "     3x,&\\text{ } 0<y<x<1,\\\\\n",
    "      0,&\\text{ otros casos }\n",
    "    \\end{split}\n",
    "\\end{align}\n",
    "$\n",
    "\n",
    "La distribución condicional de $Y$ dado $X=\\frac{1}{2}$ \n",
    "\n",
    "\n",
    "$\n",
    "\\begin{align}\n",
    "f_{Y|x=1/2} = \\frac{f(1/2,y)}{f_{X}(1/2)} \n",
    "&= \\frac{3(1/2)}{\\int_{-\\infty}^{\\infty} f(1/2,y)dy}\\\\\n",
    "&= \\frac{3(1/2)}{\\int_{0}^{1/2} 3(1/2)dy} \\\\\n",
    "&= \\frac{3(1/2)}{3(1/2) [y]|_{0}^{1/2}} \\\\\n",
    "&= \\frac{1}{1/2} \\\\\n",
    "&= 2 \\\\\n",
    "\\end{align}\n",
    "$"
   ]
  },
  {
   "cell_type": "markdown",
   "id": "1af1e0b1",
   "metadata": {},
   "source": [
    "$\n",
    "\\begin{align}\n",
    "E[X|Y=1/2] = \\int_{-\\infty}^{\\infty} xf(x|y=1/2)dx\n",
    "&=\\int_{-\\infty}^{\\infty} x\\frac{f(x,y=1/2)}{f_{Y}(1/2)}dx,\\\\\n",
    "&=\\int_{0}^{1} x\\frac{3x}{f_{Y}(1/2)}dx,\\\\\n",
    "&=\\int_{0}^{1} x\\frac{3x}{\\int_{0}^{1}3x dx}dx,\\\\\n",
    "&=\\int_{0}^{1} \\frac{3x^2}{3\\int_{0}^{1}x dx}dx,\\\\\n",
    "&=2\\int_{0}^{1} \\frac{x^2}{x^2|_{0}^{1}}dx,\\\\\n",
    "&=\\frac{2}{3}\n",
    "\\end{align}\n",
    "$\n"
   ]
  },
  {
   "cell_type": "markdown",
   "id": "b5e73f28",
   "metadata": {},
   "source": []
  }
 ],
 "metadata": {
  "kernelspec": {
   "display_name": "Python 3 (ipykernel)",
   "language": "python",
   "name": "python3"
  },
  "language_info": {
   "codemirror_mode": {
    "name": "ipython",
    "version": 3
   },
   "file_extension": ".py",
   "mimetype": "text/x-python",
   "name": "python",
   "nbconvert_exporter": "python",
   "pygments_lexer": "ipython3",
   "version": "3.10.12"
  }
 },
 "nbformat": 4,
 "nbformat_minor": 5
}
