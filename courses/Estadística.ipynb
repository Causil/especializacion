{
 "cells": [
  {
   "cell_type": "markdown",
   "id": "12d7feba",
   "metadata": {},
   "source": [
    "# Estadistica\n",
    "\n",
    "## Unidad 1\n",
    "1. Teorema de Bayes.\n",
    "2. Variables aleatorias\n",
    "3. Función de distribución.\n",
    "4. Distribuciones bivariadas, marginales y condicionales"
   ]
  },
  {
   "cell_type": "code",
   "execution_count": 99,
   "id": "98bb999a",
   "metadata": {},
   "outputs": [],
   "source": [
    "def IC_norm_sigma_conocida(media_muestral:float, varianza: float, n:int, confianza: int ) -> tuple:\n",
    "    \"\"\"\n",
    "    Parametros(\n",
    "    media_muestral:float, \n",
    "    varianza: float, \n",
    "    n:int, \n",
    "    confianza: int \n",
    "    )\n",
    "    \"\"\"\n",
    "    alpha = 1 - confianza/100\n",
    "    alpha_2 = alpha/2\n",
    "    Z_alpha_2 = norm.ppf(1-alpha_2)\n",
    "    print(Z_alpha_2)\n",
    "    limite_1 = media_muestral - Z_alpha_2*((varianza**(0.5))/((n)**(0.5)))\n",
    "    limite_2 = media_muestral + Z_alpha_2*((varianza**(0.5))/((n)**(0.5)))\n",
    "    if (limite_1 < limite_2):\n",
    "        print(limite_2 - limite_1)\n",
    "        return (limite_1, limite_2)\n",
    "    \n",
    "    else :\n",
    "        print(limite_1 - limite_2)\n",
    "        return (limite_2, limite_1)\n",
    "\n",
    "def IC_norm_sigma_desconocida(media_muestral:float, varianza_muestral: float, n:int, confianza: int ) -> tuple:\n",
    "    \"\"\"\n",
    "    Parametros(\n",
    "    media_muestral:float, \n",
    "    varianza_muestral: float, \n",
    "    n:int, \n",
    "    confianza: int \n",
    "    )\n",
    "    return: tupla con limites del intervalo de confianza\n",
    "    \"\"\"\n",
    "    alpha = 1 - confianza/100\n",
    "    alpha_2 = alpha/2\n",
    "    t_alpha_2 = t.ppf(1 - alpha_2, n-1)\n",
    "    limite_1 = media_muestral - t_alpha_2*((varianza_muestral**(0.5))/((n)**(0.5)))\n",
    "    limite_2 = media_muestral + t_alpha_2*((varianza_muestral**(0.5))/((n)**(0.5)))\n",
    "    if (limite_1 < limite_2):\n",
    "        return (limite_1, limite_2)\n",
    "    else :\n",
    "        return (limite_2, limite_1)\n",
    "    \n",
    "def IC_no_norm_sigma_conocida(media_muestral:float, varianza_muestral: float, n:int, confianza: int ) -> tuple:\n",
    "    \"\"\"\n",
    "    Parametros(\n",
    "    media_muestral:float, \n",
    "    varianza_muestral: float, \n",
    "    n:int, \n",
    "    confianza: int \n",
    "    )\n",
    "    \"\"\"\n",
    "    alpha = 1 - confianza/100\n",
    "    alpha_2 = alpha/2\n",
    "    Z_alpha_2 = norm.ppf(1-alpha_2)\n",
    "    print(Z_alpha_2)\n",
    "    limite_1 = media_muestral - Z_alpha_2*((varianza_muestral**(0.5))/((n)**(0.5)))\n",
    "    limite_2 = media_muestral + Z_alpha_2*((varianza_muestral**(0.5))/((n)**(0.5)))\n",
    "    if (limite_1 < limite_2):\n",
    "        print(limite_2 - limite_1)\n",
    "        return (limite_1, limite_2)\n",
    "    \n",
    "    else :\n",
    "        print(limite_1 - limite_2)\n",
    "        return (limite_2, limite_1)\n",
    "    \n",
    "    \n",
    "def IC_x_y_norm_sigma_desconocida(\n",
    "                                  media_muestral_1:float, \n",
    "                                  media_muestral_2:float,\n",
    "                                  varianza_muestral_1:float,\n",
    "                                  varianza_muestral_2: float,\n",
    "                                  n:int,\n",
    "                                  m:int,\n",
    "                                  confianza\n",
    "                                 ):\n",
    "    alpha = 1 - confianza/100\n",
    "    alpha_2 = alpha/2\n",
    "    numerador_v = ((( ((varianza_muestral_1)**2)/n + ((varianza_muestral_2)**2)/m )**2)*(n-1)*(m-1))\n",
    "    denominador_v = ((((varianza_muestral_1)**2)/n)**2)*(m-1) + ((((varianza_muestral_2)**2)/m)**2)*(n-1)\n",
    "    v = numerador_v / denominador_v\n",
    "    print(\"v\",v)\n",
    "    t_alpha_2 = t.ppf(1 - alpha_2, round(v))\n",
    "    radical = ( (((varianza_muestral_1)**2)/n) + (((varianza_muestral_2)**2)/m) )**0.5\n",
    "    limite_1 = media_muestral_1 - media_muestral_2 - t_alpha_2*radical\n",
    "    limite_2 = media_muestral_1 - media_muestral_2 + t_alpha_2*radical\n",
    "    if (limite_1 < limite_2):\n",
    "        return (limite_1, limite_2)\n",
    "    else :\n",
    "        return (limite_2, limite_1)\n",
    "    \n",
    "    \n",
    "def IC_x_y_no_norm_sigma_desconocida(\n",
    "                                  media_muestral_1:float, \n",
    "                                  media_muestral_2:float,\n",
    "                                  varianza_muestral_1:float,\n",
    "                                  varianza_muestral_2: float,\n",
    "                                  n:int,\n",
    "                                  m:int,\n",
    "                                  confianza\n",
    "                                 ):\n",
    "    alpha = 1 - confianza/100\n",
    "    alpha_2 = alpha/2\n",
    "    numerador_v = ((( ((varianza_muestral_1)**2)/n + ((varianza_muestral_2)**2)/m )**2)*(n-1)*(m-1))\n",
    "    denominador_v = ((((varianza_muestral_1)**2)/n)**2)*(m-1) + ((((varianza_muestral_2)**2)/m)**2)*(n-1)\n",
    "    t_alpha_2 = norm.ppf(1 - alpha_2)\n",
    "    radical = ( (((varianza_muestral_1)**2)/n) + (((varianza_muestral_2)**2)/m) )**0.5\n",
    "    limite_1 = media_muestral_1 - media_muestral_2 - t_alpha_2*radical\n",
    "    limite_2 = media_muestral_1 - media_muestral_2 + t_alpha_2*radical\n",
    "    if (limite_1 < limite_2):\n",
    "        return (limite_1, limite_2)\n",
    "    else :\n",
    "        return (limite_2, limite_1)\n",
    "    "
   ]
  },
  {
   "cell_type": "markdown",
   "id": "b37a3be3",
   "metadata": {},
   "source": [
    "## Ejercicios para taller 2\n",
    "\n",
    "Intervalos de confianza \n",
    "1. IC para $\\mu$\n",
    "    1. Mirar so la m.a \n",
    "    2. Normal\n",
    "        1. $\\sigma^2$ conocida\n",
    "        2. $\\sigma^2$ desconocida"
   ]
  },
  {
   "cell_type": "code",
   "execution_count": 19,
   "id": "1d88ed72",
   "metadata": {},
   "outputs": [],
   "source": [
    "import pandas as pd\n",
    "from  scipy.stats import norm, t\n",
    "import numpy as np\n",
    "import sympy as sp"
   ]
  },
  {
   "cell_type": "markdown",
   "id": "97815218",
   "metadata": {},
   "source": [
    "I.C para $\\mu$\n",
    "$\n",
    "\\begin{align}\n",
    "\n",
    "\\end{align}\n",
    "$"
   ]
  },
  {
   "cell_type": "markdown",
   "id": "61999ef4",
   "metadata": {},
   "source": [
    "# Intervalos de Confianza Para la Media"
   ]
  },
  {
   "cell_type": "markdown",
   "id": "177083bd",
   "metadata": {},
   "source": [
    "<img src=\"./Imagenes/estadistica/ejercicio1.png\">"
   ]
  },
  {
   "cell_type": "code",
   "execution_count": 3,
   "id": "b9e7427a",
   "metadata": {},
   "outputs": [],
   "source": [
    "# Muestra\n",
    "list_1 = [23, 39, 40, 41, 43, 47, 51, 58, 63, 66, 67, 69, 72]"
   ]
  },
  {
   "cell_type": "code",
   "execution_count": 4,
   "id": "4d9976ed",
   "metadata": {},
   "outputs": [],
   "source": [
    "# Calculando la media y varianza muestral y definimos la cantidad de elementos.\n",
    "media_muestral = np.mean(list_1)\n",
    "varianza_muestral = np.var(list_1, ddof=1)\n",
    "n = len(list_1)"
   ]
  },
  {
   "cell_type": "code",
   "execution_count": 5,
   "id": "8623af5f",
   "metadata": {},
   "outputs": [],
   "source": [
    "# Cálculamos la significancia que es alpha y alpha  \n",
    "confianza = 0.95 # \n",
    "alpha     = 1 - confianza\n",
    "alpha_2   = alpha/2"
   ]
  },
  {
   "cell_type": "code",
   "execution_count": 6,
   "id": "76a4ea62",
   "metadata": {},
   "outputs": [
    {
     "data": {
      "text/plain": [
       "2.1788128296634177"
      ]
     },
     "execution_count": 6,
     "metadata": {},
     "output_type": "execute_result"
    }
   ],
   "source": [
    "# Calculando la imagen la del perceptil con respecto a la distribución\n",
    "t_alpha_2_n_1 = t.ppf(1-alpha_2, n-1)\n",
    "t_alpha_2_n_1"
   ]
  },
  {
   "cell_type": "code",
   "execution_count": 7,
   "id": "edf1abe4",
   "metadata": {},
   "outputs": [
    {
     "data": {
      "text/plain": [
       "(61.20798876305008, 43.253549698488385)"
      ]
     },
     "execution_count": 7,
     "metadata": {},
     "output_type": "execute_result"
    }
   ],
   "source": [
    "# Se cálcula el intervalo:\n",
    "(media_muestral + t_alpha_2_n_1*((varianza_muestral**(0.5))/((n)**(0.5))) , media_muestral - t_alpha_2_n_1*((varianza_muestral**(0.5))/((n)**(0.5))))"
   ]
  },
  {
   "cell_type": "markdown",
   "id": "36201e0f",
   "metadata": {},
   "source": [
    "<h4 style=\"color: blue\">\n",
    "Conclusión: Con un 95% de confianza se puede afirmar que el peso promedio de los animales sanos se encuentra entre 43.2535 y 61.20798 respecto a la unidad de peso.\n",
    "</h4>"
   ]
  },
  {
   "cell_type": "markdown",
   "id": "6a1a93cd",
   "metadata": {},
   "source": [
    "<img src=\"./Imagenes/estadistica/ejercicio2.png\">"
   ]
  },
  {
   "cell_type": "code",
   "execution_count": 8,
   "id": "5c41f647",
   "metadata": {},
   "outputs": [
    {
     "name": "stdout",
     "output_type": "stream",
     "text": [
      "2.3263478740408408\n",
      "4.652695748081683\n"
     ]
    },
    {
     "data": {
      "text/plain": [
       "(38.57365212595916, 43.22634787404084)"
      ]
     },
     "execution_count": 8,
     "metadata": {},
     "output_type": "execute_result"
    }
   ],
   "source": [
    "IC_norm_sigma_conocida(40.9, 16, 16, 98)"
   ]
  },
  {
   "cell_type": "code",
   "execution_count": 9,
   "id": "b0565551",
   "metadata": {},
   "outputs": [
    {
     "data": {
      "text/plain": [
       "'(2*4*2.3263)**2 < n'"
      ]
     },
     "execution_count": 9,
     "metadata": {},
     "output_type": "execute_result"
    }
   ],
   "source": [
    "\"Ejericico 3 restar los intervalos menos \"\n",
    "\"(2*4*2.3263)**2 < n\""
   ]
  },
  {
   "cell_type": "code",
   "execution_count": 10,
   "id": "9978848e",
   "metadata": {},
   "outputs": [
    {
     "name": "stdout",
     "output_type": "stream",
     "text": [
      "2.3263478740408408\n",
      "0.999079177754254\n"
     ]
    },
    {
     "data": {
      "text/plain": [
       "(40.40046041112287, 41.399539588877126)"
      ]
     },
     "execution_count": 10,
     "metadata": {},
     "output_type": "execute_result"
    }
   ],
   "source": [
    "IC_norm_sigma_conocida(40.9, 16, 347, 98)"
   ]
  },
  {
   "cell_type": "code",
   "execution_count": 11,
   "id": "45b6317e",
   "metadata": {},
   "outputs": [
    {
     "data": {
      "text/plain": [
       "(28.658406267789847, 31.741593732210152)"
      ]
     },
     "execution_count": 11,
     "metadata": {},
     "output_type": "execute_result"
    }
   ],
   "source": [
    "#Ejercicio 4\n",
    "IC_norm_sigma_desconocida(30.2, (3.1)**2, 18, 95)"
   ]
  },
  {
   "cell_type": "code",
   "execution_count": 12,
   "id": "48c6fe1c",
   "metadata": {},
   "outputs": [],
   "source": [
    "# intervalo de confianza para la diferencia de medias"
   ]
  },
  {
   "cell_type": "code",
   "execution_count": 13,
   "id": "16af2124",
   "metadata": {},
   "outputs": [
    {
     "name": "stdout",
     "output_type": "stream",
     "text": [
      "v 27.767268908886958\n"
     ]
    },
    {
     "data": {
      "text/plain": [
       "(-9.807368808320518, 71.80736880832052)"
      ]
     },
     "execution_count": 13,
     "metadata": {},
     "output_type": "execute_result"
    }
   ],
   "source": [
    "#Ejercicio 1 de diferencia de medias\n",
    "IC_x_y_norm_sigma_desconocida(548,517,57,52,15,15,95)"
   ]
  },
  {
   "cell_type": "markdown",
   "id": "8e3b6ade",
   "metadata": {},
   "source": [
    "$\\mu_1 - \\mu_2 \\in (-9.822783212529636, 71.82278321252963)$, en particular $\\mu_1 - \\mu_2 = 0$, por lo cual $\\mu_1 = \\mu_2$"
   ]
  },
  {
   "cell_type": "code",
   "execution_count": 14,
   "id": "22df8722",
   "metadata": {},
   "outputs": [
    {
     "data": {
      "text/plain": [
       "(7.0389178094078275, 54.96108219059217)"
      ]
     },
     "execution_count": 14,
     "metadata": {},
     "output_type": "execute_result"
    }
   ],
   "source": [
    "#Ejercicio 2 de diferencia de medias\n",
    "\n",
    "IC_x_y_no_norm_sigma_desconocida(548,517,57,52,45,35,95)"
   ]
  },
  {
   "cell_type": "markdown",
   "id": "9ea3cd70",
   "metadata": {},
   "source": [
    "$\\mu_1 - \\mu_2 \\in (7.0389178094078275, 54.96108219059217)$, existe un $\\beta>0 \\in (7.0389178094078275, 54.96108219059217)$  tal que $\\mu_1 - \\mu_2 = \\beta>0$, por lo cual $\\mu_1 > \\mu_2$."
   ]
  },
  {
   "cell_type": "code",
   "execution_count": 15,
   "id": "dc5b5213",
   "metadata": {},
   "outputs": [
    {
     "name": "stdout",
     "output_type": "stream",
     "text": [
      "v 15.843649081977317\n"
     ]
    },
    {
     "data": {
      "text/plain": [
       "(-1.0521892085864009, 8.372189208586402)"
      ]
     },
     "execution_count": 15,
     "metadata": {},
     "output_type": "execute_result"
    }
   ],
   "source": [
    "IC_x_y_norm_sigma_desconocida(35.22, 31.56, 4.944, 4.475, 9, 9, 95)"
   ]
  },
  {
   "cell_type": "markdown",
   "id": "db35f03f",
   "metadata": {},
   "source": [
    "$\\mu_1 - \\mu_2 \\in (-1.055971345970872, 8.375971345970871)$, en particular $\\mu_1 - \\mu_2 = 0$, por lo cual $\\mu_1 = \\mu_2$"
   ]
  },
  {
   "cell_type": "markdown",
   "id": "6381e2c8",
   "metadata": {},
   "source": [
    "#Distribuciones Conjuntas \n",
    "<img src=\"./Imagenes/estadistica/ejercicio1Conjuntas.png\">"
   ]
  },
  {
   "cell_type": "markdown",
   "id": "dbc92915",
   "metadata": {},
   "source": [
    "1. Sean $X$, $Y$ variabnles aleatorias continuas con f.d.p conjuna dada por: \n",
    "\n",
    "\n",
    "$\n",
    "\\begin{align}\n",
    "f(x,y) =\\Biggl\\{ \n",
    "    \\begin{split} \n",
    "     3x,&\\text{ } 0<y<x<1,\\\\\n",
    "      0,&\\text{ otros casos }\n",
    "    \\end{split}\n",
    "\\end{align}\n",
    "$\n",
    "\n",
    "La distribución condicional de $Y$ dado $X=\\frac{1}{2}$ \n",
    "\n",
    "\n",
    "$\n",
    "\\begin{align}\n",
    "f_{Y|x=1/2}(y,1/2) = \\frac{f(1/2,y)}{f_{X}(1/2)} \n",
    "&= \\frac{3(1/2)}{\\int_{-\\infty}^{\\infty} f(1/2,y)dy}\\\\\n",
    "&= \\frac{3(1/2)}{\\int_{0}^{1/2} 3(1/2)dy} \\\\\n",
    "&= \\frac{3(1/2)}{3(1/2) [y]|_{0}^{1/2}} \\\\\n",
    "&= \\frac{1}{1/2} \\\\\n",
    "&= 2 \\\\\n",
    "\\end{align}\n",
    "$"
   ]
  },
  {
   "cell_type": "markdown",
   "id": "1af1e0b1",
   "metadata": {},
   "source": [
    "$\n",
    "\\begin{align}\n",
    "E[X|Y=1/2] = \\int_{-\\infty}^{\\infty} xf(x|y=1/2)dx\n",
    "&=\\int_{-\\infty}^{\\infty} x\\frac{f(x,y=1/2)}{f_{Y}(1/2)}dx,\\\\\n",
    "&=\\int_{0}^{1} x\\frac{3x}{f_{Y}(1/2)}dx,\\\\\n",
    "&=\\int_{0}^{1} x\\frac{3x}{\\int_{0}^{1}3x dx}dx,\\\\\n",
    "&=\\int_{0}^{1} \\frac{3x^2}{3\\int_{0}^{1}x dx}dx,\\\\\n",
    "&=2\\int_{0}^{1} \\frac{x^2}{x^2|_{0}^{1}}dx,\\\\\n",
    "&=\\frac{2}{3}\n",
    "\\end{align}\n",
    "$\n"
   ]
  },
  {
   "cell_type": "markdown",
   "id": "d21b7428",
   "metadata": {},
   "source": [
    "$\n",
    "\\begin{align}\n",
    "Cov[X,Y] = E[XY] - E[X]E[Y] &= \\int_{-\\infty}^{\\infty}\\int_{-\\infty}^{\\infty} xyf(x,y)dydx - \\Biggl(\\int_{-\\infty}^{\\infty}\\int_{-\\infty}^{\\infty}xf(x,y)dydx \\Biggl)\\Biggl( \\int_{-\\infty}^{\\infty}\\int_{-\\infty}^{\\infty}yf(x,y)dydx \\Biggl)\\\\\n",
    "&= \\int_{0}^{1}\\int_{0}^{x} xy3xdydx - \\Biggl(\\int_{0}^{1}\\int_{0}^{x}xf(x,y)dydx \\Biggl)\\Biggl( \\int_{0}^{1}\\int_{0}^{x}yf(x,y)dydx \\Biggl)\\\\\n",
    "\\end{align}\n",
    "$\n"
   ]
  },
  {
   "cell_type": "markdown",
   "id": "8c7f0e0a",
   "metadata": {},
   "source": [
    "$\n",
    "P(X\\leq \\frac{\\pi}{4}) = \\int_{0}^{\\pi/2}\\int_{0}^{\\pi/4} \\frac{1}{\\pi} (cos(x) + cos(y)) dxdy\n",
    "$\n"
   ]
  },
  {
   "cell_type": "code",
   "execution_count": 30,
   "id": "875018ca",
   "metadata": {},
   "outputs": [
    {
     "data": {
      "text/latex": [
       "$\\displaystyle \\frac{\\frac{\\pi}{4} + \\frac{\\sqrt{2} \\pi}{4}}{\\pi}$"
      ],
      "text/plain": [
       "(pi/4 + sqrt(2)*pi/4)/pi"
      ]
     },
     "execution_count": 30,
     "metadata": {},
     "output_type": "execute_result"
    }
   ],
   "source": [
    "x,y = sp.symbols('x y')\n",
    "f = sp.cos(x) + sp.cos(y)\n",
    "resultado = 1/sp.pi *(sp.integrate(sp.integrate(f, (x, 0, sp.pi/4)), (y, 0, sp.pi/2) ))\n",
    "resultado"
   ]
  },
  {
   "cell_type": "markdown",
   "id": "4a0431e1",
   "metadata": {},
   "source": [
    "Ejercicio 3 \n",
    "\n",
    "$\n",
    "1 =\\sum_{y=1}^{3}\\sum_{x=1}^{3} kxy \\equiv  \\frac{1}{\\sum_{y=1}^{3}\\sum_{x=1}^{3} xy} =k\n",
    "$\n",
    "\n"
   ]
  },
  {
   "cell_type": "code",
   "execution_count": 46,
   "id": "7225ceb2",
   "metadata": {},
   "outputs": [
    {
     "data": {
      "text/latex": [
       "$\\displaystyle \\frac{1}{144}$"
      ],
      "text/plain": [
       "1/144"
      ]
     },
     "execution_count": 46,
     "metadata": {},
     "output_type": "execute_result"
    }
   ],
   "source": [
    "expresion  = 4*x*y \n",
    "\n",
    "suma_doble = sp.summation(sp.summation(expresion, (x, 1,3)), (y,1,3))\n",
    "suma_doble\n",
    "\n",
    "k = 1/suma_doble\n",
    "k"
   ]
  },
  {
   "cell_type": "markdown",
   "id": "4c048ee2",
   "metadata": {},
   "source": [
    "$\n",
    "cov[X,Y] = E[XY] - E[X]E[Y] =\\sum_{y=1}^{3}\\sum_{x=1}^{3} (1/144)(xy)^{2} - \\Biggl(\\sum_{y=1}^{3}\\sum_{x=1}^{3} (1/144)x^2y\\biggl)\\biggl( \\sum_{y=1}^{3}\\sum_{x=1}^{3} (1/144)y^2x \\biggl)\n",
    "$"
   ]
  },
  {
   "cell_type": "code",
   "execution_count": 58,
   "id": "ec92e4b5",
   "metadata": {},
   "outputs": [
    {
     "name": "stdout",
     "output_type": "stream",
     "text": [
      "cov[XY] = 1.02083333333333\n",
      "E[x] = 0.583333333333333\n"
     ]
    }
   ],
   "source": [
    "E_XY = (1/144)*(x*y)**2 \n",
    "\n",
    "E_XY = sp.summation(sp.summation(E_XY, (x, 1,3)), (y,1,3))\n",
    "XY\n",
    "\n",
    "E_X = (1/144)*((x)**2)*y\n",
    "E_X = sp.summation(sp.summation(E_X, (x, 1,3)), (y,1,3))\n",
    "\n",
    "E_Y = (1/144)*((y)**2)*x\n",
    "E_Y = sp.summation(sp.summation(E_Y, (x, 1,3)), (y,1,3))\n",
    "\n",
    "cov_XY = E_XY - E_X*E_Y\n",
    "print(\"cov[XY] =\",cov_XY)\n",
    "print(\"E[x] =\", E_X)"
   ]
  },
  {
   "cell_type": "code",
   "execution_count": 84,
   "id": "4a7f6c3e",
   "metadata": {},
   "outputs": [
    {
     "data": {
      "text/html": [
       "<div>\n",
       "<style scoped>\n",
       "    .dataframe tbody tr th:only-of-type {\n",
       "        vertical-align: middle;\n",
       "    }\n",
       "\n",
       "    .dataframe tbody tr th {\n",
       "        vertical-align: top;\n",
       "    }\n",
       "\n",
       "    .dataframe thead th {\n",
       "        text-align: right;\n",
       "    }\n",
       "</style>\n",
       "<table border=\"1\" class=\"dataframe\">\n",
       "  <thead>\n",
       "    <tr style=\"text-align: right;\">\n",
       "      <th></th>\n",
       "      <th>dioxidocarbono</th>\n",
       "      <th>x1</th>\n",
       "      <th>x2</th>\n",
       "      <th>x3</th>\n",
       "      <th>x4</th>\n",
       "      <th>x5</th>\n",
       "    </tr>\n",
       "  </thead>\n",
       "  <tbody>\n",
       "    <tr>\n",
       "      <th>0</th>\n",
       "      <td>107</td>\n",
       "      <td>188</td>\n",
       "      <td>2.0</td>\n",
       "      <td>27.44</td>\n",
       "      <td>28.57</td>\n",
       "      <td>5</td>\n",
       "    </tr>\n",
       "    <tr>\n",
       "      <th>1</th>\n",
       "      <td>107</td>\n",
       "      <td>188</td>\n",
       "      <td>2.0</td>\n",
       "      <td>27.44</td>\n",
       "      <td>28.57</td>\n",
       "      <td>0</td>\n",
       "    </tr>\n",
       "    <tr>\n",
       "      <th>2</th>\n",
       "      <td>123</td>\n",
       "      <td>188</td>\n",
       "      <td>2.0</td>\n",
       "      <td>25.62</td>\n",
       "      <td>24.77</td>\n",
       "      <td>2</td>\n",
       "    </tr>\n",
       "    <tr>\n",
       "      <th>3</th>\n",
       "      <td>123</td>\n",
       "      <td>188</td>\n",
       "      <td>2.0</td>\n",
       "      <td>25.62</td>\n",
       "      <td>24.77</td>\n",
       "      <td>2</td>\n",
       "    </tr>\n",
       "    <tr>\n",
       "      <th>4</th>\n",
       "      <td>135</td>\n",
       "      <td>156</td>\n",
       "      <td>2.5</td>\n",
       "      <td>24.00</td>\n",
       "      <td>21.90</td>\n",
       "      <td>5</td>\n",
       "    </tr>\n",
       "  </tbody>\n",
       "</table>\n",
       "</div>"
      ],
      "text/plain": [
       "   dioxidocarbono   x1   x2     x3     x4  x5\n",
       "0             107  188  2.0  27.44  28.57   5\n",
       "1             107  188  2.0  27.44  28.57   0\n",
       "2             123  188  2.0  25.62  24.77   2\n",
       "3             123  188  2.0  25.62  24.77   2\n",
       "4             135  156  2.5  24.00  21.90   5"
      ]
     },
     "execution_count": 84,
     "metadata": {},
     "output_type": "execute_result"
    }
   ],
   "source": [
    "dataset  = pd.read_csv('data/Dioxido.txt', sep='\\t')\n",
    "dataset.head()"
   ]
  },
  {
   "cell_type": "code",
   "execution_count": 89,
   "id": "d81f2665",
   "metadata": {},
   "outputs": [
    {
     "name": "stdout",
     "output_type": "stream",
     "text": [
      "<class 'pandas.core.frame.DataFrame'>\n",
      "RangeIndex: 50 entries, 0 to 49\n",
      "Data columns (total 6 columns):\n",
      " #   Column          Non-Null Count  Dtype  \n",
      "---  ------          --------------  -----  \n",
      " 0   dioxidocarbono  50 non-null     int64  \n",
      " 1   x1              50 non-null     int64  \n",
      " 2   x2              50 non-null     float64\n",
      " 3   x3              50 non-null     float64\n",
      " 4   x4              50 non-null     float64\n",
      " 5   x5              50 non-null     int64  \n",
      "dtypes: float64(3), int64(3)\n",
      "memory usage: 2.5 KB\n"
     ]
    }
   ],
   "source": [
    "dataset.info()"
   ]
  },
  {
   "cell_type": "code",
   "execution_count": 92,
   "id": "92987785",
   "metadata": {},
   "outputs": [
    {
     "data": {
      "text/plain": [
       "(50, 6)"
      ]
     },
     "execution_count": 92,
     "metadata": {},
     "output_type": "execute_result"
    }
   ],
   "source": [
    "dataset.shape"
   ]
  },
  {
   "cell_type": "code",
   "execution_count": 113,
   "id": "f8298933",
   "metadata": {},
   "outputs": [
    {
     "data": {
      "text/html": [
       "<div>\n",
       "<style scoped>\n",
       "    .dataframe tbody tr th:only-of-type {\n",
       "        vertical-align: middle;\n",
       "    }\n",
       "\n",
       "    .dataframe tbody tr th {\n",
       "        vertical-align: top;\n",
       "    }\n",
       "\n",
       "    .dataframe thead th {\n",
       "        text-align: right;\n",
       "    }\n",
       "</style>\n",
       "<table border=\"1\" class=\"dataframe\">\n",
       "  <thead>\n",
       "    <tr style=\"text-align: right;\">\n",
       "      <th></th>\n",
       "      <th>0</th>\n",
       "      <th>1</th>\n",
       "    </tr>\n",
       "  </thead>\n",
       "  <tbody>\n",
       "    <tr>\n",
       "      <th>dioxidocarbono</th>\n",
       "      <td>145.400919</td>\n",
       "      <td>154.599081</td>\n",
       "    </tr>\n",
       "    <tr>\n",
       "      <th>x1</th>\n",
       "      <td>122.543596</td>\n",
       "      <td>137.336404</td>\n",
       "    </tr>\n",
       "    <tr>\n",
       "      <th>x2</th>\n",
       "      <td>1.532121</td>\n",
       "      <td>1.699879</td>\n",
       "    </tr>\n",
       "    <tr>\n",
       "      <th>x3</th>\n",
       "      <td>17.240712</td>\n",
       "      <td>19.131288</td>\n",
       "    </tr>\n",
       "    <tr>\n",
       "      <th>x4</th>\n",
       "      <td>24.140226</td>\n",
       "      <td>25.344574</td>\n",
       "    </tr>\n",
       "    <tr>\n",
       "      <th>x5</th>\n",
       "      <td>12.482538</td>\n",
       "      <td>24.917462</td>\n",
       "    </tr>\n",
       "  </tbody>\n",
       "</table>\n",
       "</div>"
      ],
      "text/plain": [
       "                         0           1\n",
       "dioxidocarbono  145.400919  154.599081\n",
       "x1              122.543596  137.336404\n",
       "x2                1.532121    1.699879\n",
       "x3               17.240712   19.131288\n",
       "x4               24.140226   25.344574\n",
       "x5               12.482538   24.917462"
      ]
     },
     "execution_count": 113,
     "metadata": {},
     "output_type": "execute_result"
    }
   ],
   "source": [
    "medias_muestrales = dataset.mean()\n",
    "varianzas_muestrales = dataset.var(ddof=1)\n",
    "desviacion_muestrales = varianzas_muestrales**0.5\n",
    "n=50\n",
    "alpha = 1 - 95/100\n",
    "alpha_2 = alpha/2\n",
    "\n",
    "z_alpha_2 = norm.ppf(1 - alpha_2)\n",
    "#IC_no_norm_sigma_conocida(medias_muestrales, varianzas_muestrales,50, 95)\n",
    "IC =pd.concat([medias_muestrales - z_alpha_2* desviacion_muestrales/((n)**0.5), medias_muestrales + z_alpha_2* desviacion_muestrales/((n)**0.5)], axis=1)\n",
    "#IC_no_norm_sigma_conocida()\n",
    "IC"
   ]
  }
 ],
 "metadata": {
  "kernelspec": {
   "display_name": "Python 3 (ipykernel)",
   "language": "python",
   "name": "python3"
  },
  "language_info": {
   "codemirror_mode": {
    "name": "ipython",
    "version": 3
   },
   "file_extension": ".py",
   "mimetype": "text/x-python",
   "name": "python",
   "nbconvert_exporter": "python",
   "pygments_lexer": "ipython3",
   "version": "3.10.12"
  }
 },
 "nbformat": 4,
 "nbformat_minor": 5
}
