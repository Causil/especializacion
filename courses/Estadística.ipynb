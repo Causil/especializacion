{
 "cells": [
  {
   "cell_type": "markdown",
   "id": "12d7feba",
   "metadata": {},
   "source": [
    "# Estadistica\n",
    "\n",
    "## Unidad 1\n",
    "1. Teorema de Bayes.\n",
    "2. Variables aleatorias\n",
    "3. Función de distribución.\n",
    "4. Distribuciones bivariadas, marginales y condicionales"
   ]
  },
  {
   "cell_type": "markdown",
   "id": "b37a3be3",
   "metadata": {},
   "source": []
  }
 ],
 "metadata": {
  "language_info": {
   "name": "python"
  }
 },
 "nbformat": 4,
 "nbformat_minor": 5
}
