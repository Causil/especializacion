{
 "cells": [
  {
   "cell_type": "markdown",
   "id": "ac80625b",
   "metadata": {
    "slideshow": {
     "slide_type": "-"
    }
   },
   "source": [
    "# Preparación del dataset de ventas de vehículos"
   ]
  },
  {
   "cell_type": "markdown",
   "id": "d6625df3",
   "metadata": {
    "slideshow": {
     "slide_type": "-"
    }
   },
   "source": [
    "## Librerias y ocnfiguraciones previas"
   ]
  },
  {
   "cell_type": "code",
   "execution_count": 52,
   "id": "2e352a89",
   "metadata": {},
   "outputs": [],
   "source": [
    "# Tratamiento de datos\n",
    "# ============================================================================================================\n",
    "import pandas as pd \n",
    "import numpy as np\n",
    "\n",
    "# Gestión de librerias\n",
    "# ============================================================================================================\n",
    "from importlib import reload\n",
    "\n",
    "# Matemáticas y estadísticas\n",
    "# ============================================================================================================\n",
    "import math\n",
    "\n",
    "# Preparación de datos\n",
    "# ============================================================================================================\n",
    "from sklearn.impute import KNNImputer\n",
    "from sklearn.impute import SimpleImputer\n",
    "from sklearn.neighbors import LocalOutlierFactor\n",
    "\n",
    "# Gráficos\n",
    "# =============================================================================================================\n",
    "import matplotlib.pyplot as plt\n",
    "from matplotlib import style\n",
    "import seaborn as sns\n",
    "\n",
    "# Configuración warnings\n",
    "# =============================================================================================================\n",
    "\n",
    "import warnings\n",
    "warnings.filterwarnings('ignore')\n"
   ]
  },
  {
   "cell_type": "markdown",
   "id": "94499ed7",
   "metadata": {},
   "source": [
    "## Funciones "
   ]
  },
  {
   "cell_type": "code",
   "execution_count": 53,
   "id": "fbf65de0",
   "metadata": {},
   "outputs": [],
   "source": [
    "# Funciones externas\n",
    "# =============================================================================================================\n",
    "from utils.funciones import multiple_plot"
   ]
  },
  {
   "cell_type": "markdown",
   "id": "1a14d0f8",
   "metadata": {},
   "source": [
    "Este dataset extraido de *Kaggle* (nombrado: **car details v4.csv** ) contiene información sobre **vehículos usados**, los cuales serán usados para la predicción de precios de venta, a partir de las diferentes variables.\n",
    "\n",
    "A continuación una breve descripción de las variables:\n",
    "\n",
    "****\n",
    "    \n",
    "| Campo | Descripción | Ejempo |\n",
    "| :--- | :--- |:--- |\n",
    "| Make | Marca  | Honda |\n",
    "| Model | Modelo  | Amaze 1.2 VX i-VTEC |\n",
    "| Price | Precio  | 505000 |\n",
    "| Year | Año  | 2017 |\n",
    "| Kilometer | Kilometraje  | 87150 |\n",
    "| Fuel Type | Tipo de combustible  | Petrol |\n",
    "| Transmission | Tipo de transmisión  | Manual |\n",
    "| Location | Ubicación  | Pune |\n",
    "| Color | Color  | Grey |\n",
    "| Owner | Número de propietarios previos  | First |\n",
    "| Seller Type | Tipo de vendedor  | Corporate |\n",
    "| Engine | Tipo de motor  | 1198 cc |\n",
    "| Max Power | Potencia máxima del motor  | 87 bhp @ 6000 rpm |\n",
    "| Max Torque | Torque máximo del motor  | 109 Nm @ 4500 rpm |\n",
    "| Drivetrain | Tipo de tracción  | FWD |\n",
    "| Length | Longitud  | 3990 |\n",
    "| Width | Anchura  | 1680 |\n",
    "| Height | Altura  | 1505 |\n",
    "| Seating Capacity | Capacidad de asientos  | 5 |\n",
    "| Fuel Tank Capacity | Capacidad del tanque de combustible  | 35 |\n",
    "    \n",
    "****\n",
    "\n",
    "    \n",
    "Url origen datos: https://www.kaggle.com/datasets/nehalbirla/vehicle-dataset-from-cardekho?select=car+details+v4.csv"
   ]
  },
  {
   "cell_type": "code",
   "execution_count": 54,
   "id": "5cc21021",
   "metadata": {},
   "outputs": [],
   "source": [
    "#Cargar el dataset\n",
    "d=pd.read_csv('./datasets/01_car details v4.csv')"
   ]
  },
  {
   "cell_type": "code",
   "execution_count": 55,
   "id": "1cfc10f2",
   "metadata": {},
   "outputs": [
    {
     "name": "stdout",
     "output_type": "stream",
     "text": [
      "<class 'pandas.core.frame.DataFrame'>\n",
      "RangeIndex: 2059 entries, 0 to 2058\n",
      "Data columns (total 20 columns):\n",
      " #   Column              Non-Null Count  Dtype  \n",
      "---  ------              --------------  -----  \n",
      " 0   Make                2059 non-null   object \n",
      " 1   Model               2059 non-null   object \n",
      " 2   Price               2059 non-null   int64  \n",
      " 3   Year                2059 non-null   int64  \n",
      " 4   Kilometer           2059 non-null   int64  \n",
      " 5   Fuel Type           2059 non-null   object \n",
      " 6   Transmission        2059 non-null   object \n",
      " 7   Location            2059 non-null   object \n",
      " 8   Color               2059 non-null   object \n",
      " 9   Owner               2059 non-null   object \n",
      " 10  Seller Type         2059 non-null   object \n",
      " 11  Engine              1979 non-null   object \n",
      " 12  Max Power           1979 non-null   object \n",
      " 13  Max Torque          1979 non-null   object \n",
      " 14  Drivetrain          1923 non-null   object \n",
      " 15  Length              1995 non-null   float64\n",
      " 16  Width               1995 non-null   float64\n",
      " 17  Height              1995 non-null   float64\n",
      " 18  Seating Capacity    1995 non-null   float64\n",
      " 19  Fuel Tank Capacity  1946 non-null   float64\n",
      "dtypes: float64(5), int64(3), object(12)\n",
      "memory usage: 321.8+ KB\n"
     ]
    }
   ],
   "source": [
    "d.info()"
   ]
  },
  {
   "cell_type": "code",
   "execution_count": 56,
   "id": "93b5ec88",
   "metadata": {},
   "outputs": [
    {
     "data": {
      "text/html": [
       "<div>\n",
       "<style scoped>\n",
       "    .dataframe tbody tr th:only-of-type {\n",
       "        vertical-align: middle;\n",
       "    }\n",
       "\n",
       "    .dataframe tbody tr th {\n",
       "        vertical-align: top;\n",
       "    }\n",
       "\n",
       "    .dataframe thead th {\n",
       "        text-align: right;\n",
       "    }\n",
       "</style>\n",
       "<table border=\"1\" class=\"dataframe\">\n",
       "  <thead>\n",
       "    <tr style=\"text-align: right;\">\n",
       "      <th></th>\n",
       "      <th>Make</th>\n",
       "      <th>Model</th>\n",
       "      <th>Price</th>\n",
       "      <th>Year</th>\n",
       "      <th>Kilometer</th>\n",
       "      <th>Fuel Type</th>\n",
       "      <th>Transmission</th>\n",
       "      <th>Location</th>\n",
       "      <th>Color</th>\n",
       "      <th>Owner</th>\n",
       "      <th>Seller Type</th>\n",
       "      <th>Engine</th>\n",
       "      <th>Max Power</th>\n",
       "      <th>Max Torque</th>\n",
       "      <th>Drivetrain</th>\n",
       "      <th>Length</th>\n",
       "      <th>Width</th>\n",
       "      <th>Height</th>\n",
       "      <th>Seating Capacity</th>\n",
       "      <th>Fuel Tank Capacity</th>\n",
       "    </tr>\n",
       "  </thead>\n",
       "  <tbody>\n",
       "    <tr>\n",
       "      <th>0</th>\n",
       "      <td>Honda</td>\n",
       "      <td>Amaze 1.2 VX i-VTEC</td>\n",
       "      <td>505000</td>\n",
       "      <td>2017</td>\n",
       "      <td>87150</td>\n",
       "      <td>Petrol</td>\n",
       "      <td>Manual</td>\n",
       "      <td>Pune</td>\n",
       "      <td>Grey</td>\n",
       "      <td>First</td>\n",
       "      <td>Corporate</td>\n",
       "      <td>1198 cc</td>\n",
       "      <td>87 bhp @ 6000 rpm</td>\n",
       "      <td>109 Nm @ 4500 rpm</td>\n",
       "      <td>FWD</td>\n",
       "      <td>3990.0</td>\n",
       "      <td>1680.0</td>\n",
       "      <td>1505.0</td>\n",
       "      <td>5.0</td>\n",
       "      <td>35.0</td>\n",
       "    </tr>\n",
       "    <tr>\n",
       "      <th>1</th>\n",
       "      <td>Maruti Suzuki</td>\n",
       "      <td>Swift DZire VDI</td>\n",
       "      <td>450000</td>\n",
       "      <td>2014</td>\n",
       "      <td>75000</td>\n",
       "      <td>Diesel</td>\n",
       "      <td>Manual</td>\n",
       "      <td>Ludhiana</td>\n",
       "      <td>White</td>\n",
       "      <td>Second</td>\n",
       "      <td>Individual</td>\n",
       "      <td>1248 cc</td>\n",
       "      <td>74 bhp @ 4000 rpm</td>\n",
       "      <td>190 Nm @ 2000 rpm</td>\n",
       "      <td>FWD</td>\n",
       "      <td>3995.0</td>\n",
       "      <td>1695.0</td>\n",
       "      <td>1555.0</td>\n",
       "      <td>5.0</td>\n",
       "      <td>42.0</td>\n",
       "    </tr>\n",
       "  </tbody>\n",
       "</table>\n",
       "</div>"
      ],
      "text/plain": [
       "            Make                Model   Price  Year  Kilometer Fuel Type  \\\n",
       "0          Honda  Amaze 1.2 VX i-VTEC  505000  2017      87150    Petrol   \n",
       "1  Maruti Suzuki      Swift DZire VDI  450000  2014      75000    Diesel   \n",
       "\n",
       "  Transmission  Location  Color   Owner Seller Type   Engine  \\\n",
       "0       Manual      Pune   Grey   First   Corporate  1198 cc   \n",
       "1       Manual  Ludhiana  White  Second  Individual  1248 cc   \n",
       "\n",
       "           Max Power         Max Torque Drivetrain  Length   Width  Height  \\\n",
       "0  87 bhp @ 6000 rpm  109 Nm @ 4500 rpm        FWD  3990.0  1680.0  1505.0   \n",
       "1  74 bhp @ 4000 rpm  190 Nm @ 2000 rpm        FWD  3995.0  1695.0  1555.0   \n",
       "\n",
       "   Seating Capacity  Fuel Tank Capacity  \n",
       "0               5.0                35.0  \n",
       "1               5.0                42.0  "
      ]
     },
     "execution_count": 56,
     "metadata": {},
     "output_type": "execute_result"
    }
   ],
   "source": [
    "d.head(2)"
   ]
  },
  {
   "cell_type": "markdown",
   "id": "820e3efc",
   "metadata": {},
   "source": [
    "## Limpieza de datos (Data Cleaning)"
   ]
  },
  {
   "cell_type": "code",
   "execution_count": 57,
   "id": "cc188a03",
   "metadata": {},
   "outputs": [
    {
     "data": {
      "text/plain": [
       "array(['Amaze 1.2 VX i-VTEC', 'Swift DZire VDI', 'i10 Magna 1.2 Kappa2',\n",
       "       ..., 'Ritz Vxi (ABS) BS-IV', 'XUV500 W8 [2015-2017]',\n",
       "       'Figo Duratec Petrol ZXI 1.2'], dtype=object)"
      ]
     },
     "execution_count": 57,
     "metadata": {},
     "output_type": "execute_result"
    }
   ],
   "source": [
    "# Borrando columnas que no se utilizarán \n",
    "\n",
    "d[\"Model\"].unique()\n"
   ]
  },
  {
   "cell_type": "code",
   "execution_count": 58,
   "id": "5e839dcc",
   "metadata": {},
   "outputs": [
    {
     "data": {
      "text/plain": [
       "16472000000.0"
      ]
     },
     "execution_count": 58,
     "metadata": {},
     "output_type": "execute_result"
    }
   ],
   "source": [
    "#Se limpia la variable Engine para convertirla en una variable numérica\n",
    "\n",
    "#Se borra todos los valores ' cc'\n",
    "d['Engine']=d['Engine'].str.replace(' cc','')\n",
    "d['Engine'].nbytes*10**(-6)\n",
    "d['Engine'] = d['Engine'].astype('float64')\n",
    "d['Engine'].nbytes*10**(-6)\n",
    "#d['Engine'].dtype"
   ]
  },
  {
   "cell_type": "code",
   "execution_count": 59,
   "id": "5426c543",
   "metadata": {},
   "outputs": [
    {
     "data": {
      "text/plain": [
       "0       1198.0\n",
       "1       1248.0\n",
       "2       1197.0\n",
       "3       1197.0\n",
       "4       2393.0\n",
       "         ...  \n",
       "2054    2179.0\n",
       "2055     814.0\n",
       "2056    1196.0\n",
       "2057    1995.0\n",
       "2058    1493.0\n",
       "Name: Engine, Length: 2059, dtype: float64"
      ]
     },
     "execution_count": 59,
     "metadata": {},
     "output_type": "execute_result"
    }
   ],
   "source": [
    "d['Engine']"
   ]
  },
  {
   "cell_type": "code",
   "execution_count": null,
   "id": "f138d61b",
   "metadata": {},
   "outputs": [],
   "source": []
  }
 ],
 "metadata": {
  "kernelspec": {
   "display_name": "Python 3 (ipykernel)",
   "language": "python",
   "name": "python3"
  },
  "language_info": {
   "codemirror_mode": {
    "name": "ipython",
    "version": 3
   },
   "file_extension": ".py",
   "mimetype": "text/x-python",
   "name": "python",
   "nbconvert_exporter": "python",
   "pygments_lexer": "ipython3",
   "version": "3.10.12"
  }
 },
 "nbformat": 4,
 "nbformat_minor": 5
}
