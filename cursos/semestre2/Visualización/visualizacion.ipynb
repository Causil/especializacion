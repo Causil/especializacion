{
 "cells": [
  {
   "cell_type": "markdown",
   "metadata": {},
   "source": [
    "# Contexto de los datos"
   ]
  },
  {
   "cell_type": "markdown",
   "metadata": {},
   "source": [
    "Como científico de datos del departamento de transporte de Estados Unidos, tiene un conjunto de datos a su disposición con los retrasos aéreos para el mes de julio de los últimos años (“Delay_Año_Mes.csv”), el departamento requiere de su conocimiento en el análisis y reporte de datos para diagnosticar esta problemática y exponer hallazgos."
   ]
  },
  {
   "cell_type": "markdown",
   "metadata": {},
   "source": [
    "1. Explore los datos, evalúe es necesario hacer algunas transformaciones en los datos y\n",
    "aplíquelas si es el caso.\n",
    "\n",
    "2. Considere las siguientes preguntas para su análisis:\n",
    "   - ¿Cuál es la causa de retraso más frecuente?\n",
    "   - ¿Dónde se presentan mayores retrasos en la salida?\n",
    "   - ¿Dónde se presentan mayores retrasos en la llegada?\n",
    "   - ¿Qué aerolínea presento el mayor retraso?\n",
    "   - ¿Qué día se presentan mayores retrasos?\n",
    "   - ¿Cuál estado presenta mayor cantidad de vuelos?"
   ]
  },
  {
   "cell_type": "markdown",
   "metadata": {},
   "source": [
    "ENTREGABLES:\n",
    "\n",
    "1. Informe donde se resuma el análisis exploratorio de datos realizado y se documente el\n",
    "proceso (descripción técnica, listado de supuestos sobre los datos, etc.).\n",
    "\n",
    "2. Visualización grafica (tablero o infografía), herramienta a elección de las vista en clase hasta\n",
    "el momento.\n",
    "\n",
    "3. Deben enviar todos los archivos soporte (.rmd, .qmd, .ipynb, etc)"
   ]
  },
  {
   "cell_type": "markdown",
   "metadata": {},
   "source": [
    "Diccionario de datos:\n",
    "| Variable | explicación |\n",
    "| --- | --- |\n",
    "| Year       | Year       |\n",
    "| Quarter    | Quarter (1-4)    |\n",
    "| MonthMonth | DayofMonthDay of Month    |\n",
    "| DayOfWeek  | Day of Week    |\n",
    "| FlightDate |  Flight Date (yyyymmdd)    |\n",
    "| Reporting_Airline | Unique Carrier Code. When the same code has been used by multiple|\n",
    "carriers, a numeric suffix is used for earlier users, for example, PA, PA(1),\n",
    "PA(2). Use this field for analysis across a range of years.\n",
    "DOT_ID_Reporting_AirlineAn identification number assigned by US DOT to identify a unique airline\n",
    "(carrier). A unique airline (carrier) is defined as one holding and reporting\n",
    "under the same DOT certificate regardless of its Code, Name, or holding\n",
    "company/corporation.\n",
    "IATA_CODE_Reporting_AirlineCode assigned by IATA and commonly used to identify a carrier. As the\n",
    "same code may have been assigned to different carriers over time, the\n",
    "code is not always unique. For analysis, use the Unique Carrier Code.\n",
    "Tail_NumberTail Number\n",
    "Flight_Number_Reporting_Airline Flight Number\n",
    "OriginAirportIDOrigin Airport, Airport ID. An identification number assigned by US DOT to\n",
    "identify a unique airport. Use this field for airport analysis across a range\n",
    "of years because an airport can change its airport code and airport codes\n",
    "can be reused.\n",
    "OriginAirportSeqIDOrigin Airport, Airport Sequence ID. An identification number assigned by\n",
    "US DOT to identify a unique airport at a given point of time. Airport\n",
    "attributes, such as airport name or coordinates, may change over time.\n",
    "OriginCityMarketIDOrigin Airport, City Market ID. City Market ID is an identification number\n",
    "assigned by US DOT to identify a city market. Use this field to consolidate\n",
    "airports serving the same city market.\n",
    "OriginOrigin Airport\n",
    "OriginCityNameOrigin Airport, City Name\n",
    "OriginStateOrigin Airport, State Code\n",
    "OriginStateFipsOrigin Airport, State Fips\n",
    "OriginStateNameOrigin Airport, State Name\n",
    "OriginWacOrigin Airport, World Area Code\n",
    "DestAirportIDDestination Airport, Airport ID. An identification number assigned by US\n",
    "DOT to identify a unique airport. Use this field for airport analysis across a\n",
    "range of years because an airport can change its airport code and airport\n",
    "codes can be reused.\n",
    "DestAirportSeqIDDestination Airport, Airport Sequence ID. An identification number\n",
    "assigned by US DOT to identify a unique airport at a given point of time.\n",
    "Airport attributes, such as airport name or coordinates, may change over\n",
    "time."
   ]
  },
  {
   "cell_type": "markdown",
   "metadata": {},
   "source": []
  },
  {
   "cell_type": "code",
   "execution_count": null,
   "metadata": {},
   "outputs": [],
   "source": [
    "import pandas as pd"
   ]
  },
  {
   "cell_type": "code",
   "execution_count": null,
   "metadata": {},
   "outputs": [],
   "source": []
  }
 ],
 "metadata": {
  "kernelspec": {
   "display_name": ".venv",
   "language": "python",
   "name": "python3"
  },
  "language_info": {
   "codemirror_mode": {
    "name": "ipython",
    "version": 3
   },
   "file_extension": ".py",
   "mimetype": "text/x-python",
   "name": "python",
   "nbconvert_exporter": "python",
   "pygments_lexer": "ipython3",
   "version": "3.10.12"
  }
 },
 "nbformat": 4,
 "nbformat_minor": 2
}
